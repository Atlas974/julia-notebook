{
 "cells": [
  {
   "cell_type": "markdown",
   "id": "bulgarian-flashing",
   "metadata": {},
   "source": [
    "# Julia By Example"
   ]
  },
  {
   "cell_type": "markdown",
   "id": "concerned-bahamas",
   "metadata": {},
   "source": [
    "## Hello World"
   ]
  },
  {
   "cell_type": "code",
   "execution_count": 1,
   "id": "compliant-smith",
   "metadata": {},
   "outputs": [
    {
     "name": "stdout",
     "output_type": "stream",
     "text": [
      "hello world\n"
     ]
    }
   ],
   "source": [
    "println(\"hello world\")\n",
    "#> hello world"
   ]
  },
  {
   "cell_type": "markdown",
   "id": "paperback-sampling",
   "metadata": {},
   "source": [
    "## Simple Functions"
   ]
  },
  {
   "cell_type": "code",
   "execution_count": 2,
   "id": "floral-thermal",
   "metadata": {},
   "outputs": [
    {
     "data": {
      "text/plain": [
       "sphere_vol (generic function with 1 method)"
      ]
     },
     "execution_count": 2,
     "metadata": {},
     "output_type": "execute_result"
    }
   ],
   "source": [
    "# function to calculate the volume of a sphere\n",
    "function sphere_vol(r)\n",
    "    # julia allows Unicode names (in UTF-8 encoding)\n",
    "    # so either \"pi\" or the symbol π can be used\n",
    "    return 4/3*pi*r^3\n",
    "end"
   ]
  },
  {
   "cell_type": "code",
   "execution_count": 3,
   "id": "palestinian-arrival",
   "metadata": {},
   "outputs": [
    {
     "data": {
      "text/plain": [
       "quadratic (generic function with 1 method)"
      ]
     },
     "execution_count": 3,
     "metadata": {},
     "output_type": "execute_result"
    }
   ],
   "source": [
    "# functions can also be defined more succinctly\n",
    "quadratic(a, sqr_term, b) = (-b + sqr_term) / 2a"
   ]
  },
  {
   "cell_type": "code",
   "execution_count": 4,
   "id": "legislative-clock",
   "metadata": {},
   "outputs": [
    {
     "data": {
      "text/plain": [
       "quadratic2 (generic function with 1 method)"
      ]
     },
     "execution_count": 4,
     "metadata": {},
     "output_type": "execute_result"
    }
   ],
   "source": [
    "# calculates x for 0 = a*x^2+b*x+c, arguments types can be defined in function definitions\n",
    "function quadratic2(a::Float64, b::Float64, c::Float64)\n",
    "    # unlike other languages 2a is equivalent to 2*a\n",
    "    # a^2 is used instead of a**2 or pow(a,2)\n",
    "    sqr_term = sqrt(b^2-4a*c)\n",
    "    r1 = quadratic(a, sqr_term, b)\n",
    "    r2 = quadratic(a, -sqr_term, b)\n",
    "    # multiple values can be returned from a function using tuples\n",
    "    # if the return keyword is omitted, the last term is returned\n",
    "    r1, r2\n",
    "end"
   ]
  },
  {
   "cell_type": "code",
   "execution_count": 5,
   "id": "coordinate-yorkshire",
   "metadata": {},
   "outputs": [
    {
     "name": "stdout",
     "output_type": "stream",
     "text": [
      "volume = 113.097\n"
     ]
    }
   ],
   "source": [
    "vol = sphere_vol(3)\n",
    "# @printf allows number formatting but does not automatically append the \\n to statements, see below\n",
    "using Printf\n",
    "@printf \"volume = %0.3f\\n\" vol \n",
    "#> volume = 113.097"
   ]
  },
  {
   "cell_type": "code",
   "execution_count": 6,
   "id": "geological-conditions",
   "metadata": {},
   "outputs": [
    {
     "name": "stdout",
     "output_type": "stream",
     "text": [
      "result 1: 3.0\n",
      "result 2: -2.0\n"
     ]
    }
   ],
   "source": [
    "quad1, quad2 = quadratic2(2.0, -2.0, -12.0)\n",
    "println(\"result 1: \", quad1)\n",
    "#> result 1: 3.0\n",
    "println(\"result 2: \", quad2)\n",
    "#> result 2: -2.0"
   ]
  },
  {
   "cell_type": "markdown",
   "id": "cooperative-claim",
   "metadata": {},
   "source": [
    "## Strings Basics"
   ]
  },
  {
   "cell_type": "code",
   "execution_count": 7,
   "id": "bored-indicator",
   "metadata": {},
   "outputs": [
    {
     "name": "stdout",
     "output_type": "stream",
     "text": [
      "The quick brown fox jumps over the lazy dog α,β,γ\n"
     ]
    }
   ],
   "source": [
    "# strings are defined with double quotes\n",
    "# like variables, strings can contain any unicode character\n",
    "s1 = \"The quick brown fox jumps over the lazy dog α,β,γ\"\n",
    "println(s1)\n",
    "#> The quick brown fox jumps over the lazy dog α,β,γ"
   ]
  },
  {
   "cell_type": "code",
   "execution_count": 8,
   "id": "congressional-yemen",
   "metadata": {},
   "outputs": [
    {
     "name": "stdout",
     "output_type": "stream",
     "text": [
      "this and that.\n"
     ]
    }
   ],
   "source": [
    "# println adds a new line to the end of output\n",
    "# print can be used if you dont want that:\n",
    "print(\"this\")\n",
    "#> this\n",
    "print(\" and\")\n",
    "#> and\n",
    "print(\" that.\\n\")\n",
    "#> that."
   ]
  },
  {
   "cell_type": "code",
   "execution_count": 9,
   "id": "equal-parade",
   "metadata": {},
   "outputs": [
    {
     "name": "stdout",
     "output_type": "stream",
     "text": [
      "a\n",
      "a ascii value = 97\n",
      "Int('α') == 945\n"
     ]
    }
   ],
   "source": [
    "# chars are defined with single quotes\n",
    "c1 = 'a'\n",
    "println(c1)\n",
    "#> a\n",
    "# the ascii value of a char can be found with Int():\n",
    "println(c1, \" ascii value = \", Int(c1))\n",
    "#> a ascii value = 97\n",
    "println(\"Int('α') == \", Int('α'))\n",
    "#> Int('α') == 945"
   ]
  },
  {
   "cell_type": "code",
   "execution_count": 10,
   "id": "fifty-dover",
   "metadata": {},
   "outputs": [
    {
     "name": "stdout",
     "output_type": "stream",
     "text": [
      "false\n"
     ]
    }
   ],
   "source": [
    "# so be aware that\n",
    "println(Int('1') == 1)\n",
    "#> false"
   ]
  },
  {
   "cell_type": "code",
   "execution_count": 11,
   "id": "twenty-laser",
   "metadata": {},
   "outputs": [
    {
     "name": "stdout",
     "output_type": "stream",
     "text": [
      "THE QUICK BROWN FOX JUMPS OVER THE LAZY DOG Α,Β,Γ\n",
      "the quick brown fox jumps over the lazy dog α,β,γ\n"
     ]
    }
   ],
   "source": [
    "# strings can be converted to upper case or lower case:\n",
    "s1_caps = uppercase(s1)\n",
    "s1_lower = lowercase(s1)\n",
    "println(s1_caps, \"\\n\", s1_lower)\n",
    "#> THE QUICK BROWN FOX JUMPS OVER THE LAZY DOG Α,Β,Γ\n",
    "#> the quick brown fox jumps over the lazy dog α,β,γ"
   ]
  },
  {
   "cell_type": "code",
   "execution_count": 12,
   "id": "isolated-wright",
   "metadata": {},
   "outputs": [
    {
     "name": "stdout",
     "output_type": "stream",
     "text": [
      "'b'\n"
     ]
    }
   ],
   "source": [
    "# sub strings can be indexed like arrays:\n",
    "# (show prints the raw value)\n",
    "show(s1[11]); println()\n",
    "#> 'b'"
   ]
  },
  {
   "cell_type": "code",
   "execution_count": 13,
   "id": "atmospheric-google",
   "metadata": {},
   "outputs": [
    {
     "name": "stdout",
     "output_type": "stream",
     "text": [
      "\"The quick \"\n"
     ]
    }
   ],
   "source": [
    "# or sub strings can be created:\n",
    "show(s1[1:10]); println()\n",
    "#> \"The quick \""
   ]
  },
  {
   "cell_type": "code",
   "execution_count": 14,
   "id": "thorough-forward",
   "metadata": {},
   "outputs": [
    {
     "name": "stdout",
     "output_type": "stream",
     "text": [
      "\"dog α,β,γ\"\n"
     ]
    }
   ],
   "source": [
    "# end is used for the end of the array or string\n",
    "show(s1[end-10:end]); println()\n",
    "#> \"dog α,β,γ\""
   ]
  },
  {
   "cell_type": "code",
   "execution_count": 15,
   "id": "fifty-chocolate",
   "metadata": {},
   "outputs": [
    {
     "name": "stdout",
     "output_type": "stream",
     "text": [
      "welcome to julia.\n"
     ]
    }
   ],
   "source": [
    "# julia allows string Interpolation:\n",
    "a = \"welcome\"\n",
    "b = \"julia\"\n",
    "println(\"$a to $b.\")\n",
    "#> welcome to julia."
   ]
  },
  {
   "cell_type": "code",
   "execution_count": 16,
   "id": "civic-owner",
   "metadata": {},
   "outputs": [
    {
     "name": "stdout",
     "output_type": "stream",
     "text": [
      "1 + 2 = 3\n"
     ]
    }
   ],
   "source": [
    "# this can extend to evaluate statements:\n",
    "println(\"1 + 2 = $(1 + 2)\")\n",
    "#> 1 + 2 = 3"
   ]
  },
  {
   "cell_type": "code",
   "execution_count": 17,
   "id": "floppy-familiar",
   "metadata": {},
   "outputs": [
    {
     "name": "stdout",
     "output_type": "stream",
     "text": [
      "this and that\n"
     ]
    }
   ],
   "source": [
    "# strings can also be concatenated using the * operator\n",
    "# using * instead of + isn't intuitive when you start with Julia,\n",
    "# however people think it makes more sense\n",
    "s2 = \"this\" * \" and\" * \" that\"\n",
    "println(s2)\n",
    "#> this and that"
   ]
  },
  {
   "cell_type": "code",
   "execution_count": 18,
   "id": "auburn-mumbai",
   "metadata": {},
   "outputs": [
    {
     "name": "stdout",
     "output_type": "stream",
     "text": [
      "this and that\n"
     ]
    }
   ],
   "source": [
    "# as well as the string function\n",
    "s3 = string(\"this\", \" and\", \" that\")\n",
    "println(s3)\n",
    "#> this and that"
   ]
  },
  {
   "cell_type": "markdown",
   "id": "shaped-activation",
   "metadata": {},
   "source": [
    "## String: Converting and formatting"
   ]
  },
  {
   "cell_type": "code",
   "execution_count": 19,
   "id": "listed-matrix",
   "metadata": {},
   "outputs": [
    {
     "name": "stdout",
     "output_type": "stream",
     "text": [
      "13.59\n",
      "45\n"
     ]
    }
   ],
   "source": [
    "# strings can be converted using float and int:\n",
    "e_str1 = \"2.718\"\n",
    "e = parse(Float64, e_str1)\n",
    "println(5e)\n",
    "#> 13.59\n",
    "num_15 = parse(Int, \"15\")\n",
    "println(3num_15)\n",
    "#> 45"
   ]
  },
  {
   "cell_type": "code",
   "execution_count": 20,
   "id": "hydraulic-twelve",
   "metadata": {},
   "outputs": [
    {
     "name": "stdout",
     "output_type": "stream",
     "text": [
      "e = 2.72\n"
     ]
    },
    {
     "data": {
      "text/plain": [
       "\"2.718\""
      ]
     },
     "execution_count": 20,
     "metadata": {},
     "output_type": "execute_result"
    }
   ],
   "source": [
    "# numbers can be converted to strings and formatted using printf\n",
    "using Printf\n",
    "@printf \"e = %0.2f\\n\" e\n",
    "#> e = 2.72\n",
    "# or to create another string sprintf\n",
    "e_str2 = @sprintf(\"%0.3f\", e)"
   ]
  },
  {
   "cell_type": "code",
   "execution_count": 21,
   "id": "foreign-continuity",
   "metadata": {},
   "outputs": [
    {
     "name": "stdout",
     "output_type": "stream",
     "text": [
      "e_str1 == e_str2: true\n"
     ]
    }
   ],
   "source": [
    "# to show that the 2 strings are the same\n",
    "println(\"e_str1 == e_str2: $(e_str1 == e_str2)\")\n",
    "#> e_str1 == e_str2: true"
   ]
  },
  {
   "cell_type": "code",
   "execution_count": 22,
   "id": "earned-craft",
   "metadata": {},
   "outputs": [
    {
     "name": "stdout",
     "output_type": "stream",
     "text": [
      "fix trailing precision: 3.142\n",
      "scientific form: 3.141593e+03\n",
      "float in hexadecimal format: 0xf.fp+4\n",
      "fix trailing precision: 3.14159e+08\n",
      "a character: α\n",
      "a string: look I'm a string!\n",
      "right justify a string:                    width 50, text right justified!\n",
      "a pointer: 0x0000000005f5e100\n",
      "print an integer: 10000000000\n"
     ]
    }
   ],
   "source": [
    "# available number format characters are f, e, a, g, c, s, p, d:\n",
    "# (pi is a predefined constant; however, since its type is \n",
    "# \"MathConst\" it has to be converted to a float to be formatted)\n",
    "@printf \"fix trailing precision: %0.3f\\n\" float(pi)\n",
    "#> fix trailing precision: 3.142\n",
    "@printf \"scientific form: %0.6e\\n\" 1000pi\n",
    "#> scientific form: 3.141593e+03\n",
    "@printf \"float in hexadecimal format: %a\\n\" 0xff\n",
    "#> float in hexadecimal format: 0xf.fp+4\n",
    "@printf \"fix trailing precision: %g\\n\" pi*1e8\n",
    "#> fix trailing precision: 3.14159e+08\n",
    "@printf \"a character: %c\\n\" 'α'\n",
    "#> a character: α\n",
    "@printf \"a string: %s\\n\" \"look I'm a string!\"\n",
    "#> a string: look I'm a string!\n",
    "@printf \"right justify a string: %50s\\n\" \"width 50, text right justified!\"\n",
    "#> right justify a string:                    width 50, text right justified!\n",
    "@printf \"a pointer: %p\\n\" 100000000\n",
    "#> a pointer: 0x0000000005f5e100\n",
    "@printf \"print an integer: %d\\n\" 1e10\n",
    "#> print an integer: 10000000000"
   ]
  },
  {
   "cell_type": "markdown",
   "id": "hungry-georgia",
   "metadata": {},
   "source": [
    "## String Manipulations"
   ]
  },
  {
   "cell_type": "code",
   "execution_count": 23,
   "id": "uniform-montana",
   "metadata": {},
   "outputs": [
    {
     "data": {
      "text/plain": [
       "\"The quick brown fox jumps over the lazy dog α,β,γ\""
      ]
     },
     "execution_count": 23,
     "metadata": {},
     "output_type": "execute_result"
    }
   ],
   "source": [
    "s1 = \"The quick brown fox jumps over the lazy dog α,β,γ\""
   ]
  },
  {
   "cell_type": "code",
   "execution_count": 24,
   "id": "cultural-aluminum",
   "metadata": {},
   "outputs": [
    {
     "name": "stdout",
     "output_type": "stream",
     "text": [
      "11\n"
     ]
    }
   ],
   "source": [
    "# search returns the first index of a char\n",
    "i = findfirst(isequal('b'), s1)\n",
    "println(i)\n",
    "#> 11\n",
    "# the second argument is equivalent to the second argument of split, see below"
   ]
  },
  {
   "cell_type": "code",
   "execution_count": 25,
   "id": "crucial-sampling",
   "metadata": {},
   "outputs": [
    {
     "name": "stdout",
     "output_type": "stream",
     "text": [
      "11:15\n"
     ]
    }
   ],
   "source": [
    "# or a range if called with another string\n",
    "r = findfirst(\"brown\", s1)\n",
    "println(r)\n",
    "#> 11:15"
   ]
  },
  {
   "cell_type": "code",
   "execution_count": 26,
   "id": "royal-uncertainty",
   "metadata": {},
   "outputs": [
    {
     "name": "stdout",
     "output_type": "stream",
     "text": [
      "\"The quick red fox jumps over the lazy dog α,β,γ\"\n"
     ]
    }
   ],
   "source": [
    "# string replace is done thus:\n",
    "r = replace(s1, \"brown\" => \"red\")\n",
    "show(r); println()\n",
    "#> \"The quick red fox jumps over the lazy dog α,β,γ\""
   ]
  },
  {
   "cell_type": "code",
   "execution_count": 27,
   "id": "accessory-review",
   "metadata": {},
   "outputs": [
    {
     "name": "stdout",
     "output_type": "stream",
     "text": [
      "11:15\n"
     ]
    }
   ],
   "source": [
    "# search and replace can also take a regular expressions by preceding the string with 'r'\n",
    "r = findfirst(r\"b[\\w]*n\", s1)\n",
    "println(r)\n",
    "#> 11:15"
   ]
  },
  {
   "cell_type": "code",
   "execution_count": 28,
   "id": "integrated-knife",
   "metadata": {},
   "outputs": [
    {
     "name": "stdout",
     "output_type": "stream",
     "text": [
      "\"The quick red fox jumps over the lazy dog α,β,γ\"\n"
     ]
    }
   ],
   "source": [
    "# again with a regular expression\n",
    "r = replace(s1, r\"b[\\w]*n\" => \"red\")\n",
    "show(r); println()\n",
    "#> \"The quick red fox jumps over the lazy dog α,β,γ\""
   ]
  },
  {
   "cell_type": "code",
   "execution_count": 29,
   "id": "brief-czech",
   "metadata": {},
   "outputs": [
    {
     "name": "stdout",
     "output_type": "stream",
     "text": [
      "RegexMatch(\"brown\")\n"
     ]
    }
   ],
   "source": [
    "# there are also functions for regular expressions that return RegexMatch types\n",
    "# match scans left to right for the first match (specified starting index optional)\n",
    "r = match(r\"b[\\w]*n\", s1)\n",
    "println(r)\n",
    "#> RegexMatch(\"brown\")"
   ]
  },
  {
   "cell_type": "code",
   "execution_count": 30,
   "id": "applied-effect",
   "metadata": {},
   "outputs": [
    {
     "name": "stdout",
     "output_type": "stream",
     "text": [
      "\"brown\"\n"
     ]
    }
   ],
   "source": [
    "# RegexMatch types have a property match that holds the matched string\n",
    "show(r.match); println()\n",
    "#> \"brown\""
   ]
  },
  {
   "cell_type": "code",
   "execution_count": 31,
   "id": "adapted-feeding",
   "metadata": {},
   "outputs": [
    {
     "name": "stdout",
     "output_type": "stream",
     "text": [
      "\"quick\" \"brown\" \"jumps\" \"over\" \"lazy\" \n"
     ]
    }
   ],
   "source": [
    "# eachmatch returns an iterator over all the matches\n",
    "r = eachmatch(r\"[\\w]{4,}\", s1)\n",
    "for i in r print(\"\\\"$(i.match)\\\" \") end\n",
    "#> \"quick\" \"brown\" \"jumps\" \"over\" \"lazy\"\n",
    "println()"
   ]
  },
  {
   "cell_type": "code",
   "execution_count": 32,
   "id": "incorrect-basin",
   "metadata": {},
   "outputs": [
    {
     "name": "stdout",
     "output_type": "stream",
     "text": [
      "SubString{String}[\"quick\", \"brown\", \"jumps\", \"over\", \"lazy\"]\n"
     ]
    }
   ],
   "source": [
    "r = collect(m.match for m = eachmatch(r\"[\\w]{4,}\", s1))\n",
    "println(r)\n",
    "#> SubString{String}[\"quick\", \"brown\", \"jumps\", \"over\", \"lazy\"]"
   ]
  },
  {
   "cell_type": "code",
   "execution_count": 33,
   "id": "italian-praise",
   "metadata": {},
   "outputs": [
    {
     "name": "stdout",
     "output_type": "stream",
     "text": [
      "\"hello hello hello \"\n"
     ]
    }
   ],
   "source": [
    "# a string can be repeated using the repeat function, \n",
    "# or more succinctly with the ^ syntax:\n",
    "r = \"hello \"^3\n",
    "show(r); println() #> \"hello hello hello \""
   ]
  },
  {
   "cell_type": "code",
   "execution_count": 34,
   "id": "peaceful-maximum",
   "metadata": {},
   "outputs": [
    {
     "name": "stdout",
     "output_type": "stream",
     "text": [
      "\"hello\"\n",
      "\"ello\"\n"
     ]
    }
   ],
   "source": [
    "# the strip function works the same as python:\n",
    "# e.g., with one argument it strips the outer whitespace\n",
    "r = strip(\"hello \")\n",
    "show(r); println() #> \"hello\"\n",
    "# or with a second argument of an array of chars it strips any of them;\n",
    "r = strip(\"hello \", ['h', ' '])\n",
    "show(r); println() #> \"ello\"\n",
    "# (note the array is of chars and not strings)"
   ]
  },
  {
   "cell_type": "code",
   "execution_count": 35,
   "id": "polar-national",
   "metadata": {},
   "outputs": [
    {
     "name": "stdout",
     "output_type": "stream",
     "text": [
      "SubString{String}[\"hello\", \" there\", \"bob\"]\n",
      "SubString{String}[\"hello\", \"there,bob\"]\n",
      "SubString{String}[\"hello\", \"there\", \"bob\"]\n"
     ]
    }
   ],
   "source": [
    "# similarly split works in basically the same way as python:\n",
    "r = split(\"hello, there,bob\", ',')\n",
    "show(r); println() #> SubString{String}[\"hello\", \" there\", \"bob\"]\n",
    "r = split(\"hello, there,bob\", \", \")\n",
    "show(r); println() #> SubString{String}[\"hello\", \"there,bob\"]\n",
    "r = split(\"hello, there,bob\", [',', ' '], limit=0, keepempty=false)\n",
    "show(r); println() #> SubString{String}[\"hello\", \"there\", \"bob\"]\n",
    "# (the last two arguements are limit and include_empty, see docs)"
   ]
  },
  {
   "cell_type": "code",
   "execution_count": 36,
   "id": "streaming-assist",
   "metadata": {},
   "outputs": [
    {
     "name": "stdout",
     "output_type": "stream",
     "text": [
      "1, 2, 3, 4, 5, 6, 7, 8, 9, 10\n"
     ]
    }
   ],
   "source": [
    "# the opposite of split: join is simply\n",
    "r = join(collect(1:10), \", \")\n",
    "println(r) #> 1, 2, 3, 4, 5, 6, 7, 8, 9, 10"
   ]
  },
  {
   "cell_type": "code",
   "execution_count": null,
   "id": "convenient-directive",
   "metadata": {},
   "outputs": [],
   "source": []
  }
 ],
 "metadata": {
  "kernelspec": {
   "display_name": "Julia 1.4.1",
   "language": "julia",
   "name": "julia-1.4"
  },
  "language_info": {
   "file_extension": ".jl",
   "mimetype": "application/julia",
   "name": "julia",
   "version": "1.4.1"
  }
 },
 "nbformat": 4,
 "nbformat_minor": 5
}
